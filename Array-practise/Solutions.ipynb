{
 "cells": [
  {
   "cell_type": "code",
   "execution_count": 15,
   "metadata": {},
   "outputs": [],
   "source": [
    "#WAP1\n",
    "expense = [2200, 2350, 2600, 2130, 2190]\n",
    "\n",
    "#Q1\n",
    "ans1 = expense[1] - expense[0]\n",
    "\n",
    "#Q2\n",
    "ans2 = 0\n",
    "for i in range(3):\n",
    "    ans2 = ans2 + expense[i]\n",
    "ans2\n",
    "\n",
    "#Q3\n",
    "2000 in expense\n",
    "\n",
    "#Q4\n",
    "expense.append(1980)\n",
    "\n",
    "#Q5\n",
    "expense[3] = expense[3] - 200"
   ]
  }
 ],
 "metadata": {
  "kernelspec": {
   "display_name": "tf_keras",
   "language": "python",
   "name": "python3"
  },
  "language_info": {
   "codemirror_mode": {
    "name": "ipython",
    "version": 3
   },
   "file_extension": ".py",
   "mimetype": "text/x-python",
   "name": "python",
   "nbconvert_exporter": "python",
   "pygments_lexer": "ipython3",
   "version": "3.9.16"
  }
 },
 "nbformat": 4,
 "nbformat_minor": 2
}
